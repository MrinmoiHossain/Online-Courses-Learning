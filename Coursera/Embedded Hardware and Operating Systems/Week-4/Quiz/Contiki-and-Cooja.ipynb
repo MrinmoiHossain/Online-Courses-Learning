{
 "cells": [
  {
   "cell_type": "markdown",
   "metadata": {},
   "source": [
    "#### 1. Which are the main components of Contiki ? (Check all that apply)"
   ]
  },
  {
   "cell_type": "markdown",
   "metadata": {},
   "source": [
    "##### Ans: \n",
    "- Applications/serivces\n",
    "- Libraries\n",
    "- The kernel"
   ]
  },
  {
   "cell_type": "markdown",
   "metadata": {},
   "source": [
    "#### 2. How are loadable programs implemented in Contiki ? (Check all that apply)"
   ]
  },
  {
   "cell_type": "markdown",
   "metadata": {},
   "source": [
    "##### Ans: (Wrong) By a run-time relocation function"
   ]
  },
  {
   "cell_type": "markdown",
   "metadata": {},
   "source": [
    "#### 3. How are Contiki services identified and managed ? (Check all that apply)"
   ]
  },
  {
   "cell_type": "markdown",
   "metadata": {},
   "source": [
    "##### Ans:\n",
    "- A service is managed by a service layer\n",
    "- A service is identified by a text string"
   ]
  },
  {
   "cell_type": "markdown",
   "metadata": {},
   "source": [
    "#### 4. What are the Contiki libraries and how do programs link with libraries ? (Check all that apply)"
   ]
  },
  {
   "cell_type": "markdown",
   "metadata": {},
   "source": [
    "##### Ans: \n",
    "- Programs linked with libraries by statically linked with parts of the loadable program\n",
    "- Programs linked with libraries by calling services implementing run-time libraries\n",
    "- Programs linked with libraries by statically linked with the part of the core\n",
    "- Contiki libraries are implemented as system libraries"
   ]
  },
  {
   "cell_type": "markdown",
   "metadata": {},
   "source": [
    "#### 5.  What does a uIP communication stack in Contiki have ? (Check all that apply) "
   ]
  },
  {
   "cell_type": "markdown",
   "metadata": {},
   "source": [
    "##### Ans: \n",
    "- It has the main control loop for checking arriving packets\n",
    "- It has the main control loop for checking a periodic timeout"
   ]
  },
  {
   "cell_type": "markdown",
   "metadata": {},
   "source": [
    "#### 5. How does a uIP communication work ? (Check all that apply) "
   ]
  },
  {
   "cell_type": "markdown",
   "metadata": {},
   "source": [
    "##### Ans: (Wrong)\n",
    "- uIP communication supports host-to-host communication\n",
    "- uIP communication is run as a task in a multitasking system\n",
    "\n",
    "\n",
    "- uIP communication supports host-to-host communication\n",
    "- uIP communication is run as the main program in a single task system"
   ]
  },
  {
   "cell_type": "markdown",
   "metadata": {},
   "source": [
    "#### 6. What is a service in Contiki ? (Check all that apply)"
   ]
  },
  {
   "cell_type": "markdown",
   "metadata": {},
   "source": [
    "##### Ans: (Wrong) A service is dynamically replaced at run-time "
   ]
  },
  {
   "cell_type": "markdown",
   "metadata": {},
   "source": [
    "#### 7. Which is/are the feature(s) of Contiki ? (Check all that apply)"
   ]
  },
  {
   "cell_type": "markdown",
   "metadata": {},
   "source": [
    "##### Ans: \n",
    "- CPU multiplexing provided by base system\n",
    "- Direct communication between applications and hardware\n",
    "- Easy and fast development of applications\n",
    "- Implemented in C language"
   ]
  },
  {
   "cell_type": "markdown",
   "metadata": {},
   "source": [
    "#### 8. In Contiki, how does the system react when failing to load a program ? "
   ]
  },
  {
   "cell_type": "markdown",
   "metadata": {},
   "source": [
    "##### Ans: The system crashes"
   ]
  },
  {
   "cell_type": "markdown",
   "metadata": {},
   "source": [
    "#### 9. What is multi-threading and how it is managed/implemented in Contiki ? (Check all that apply)"
   ]
  },
  {
   "cell_type": "markdown",
   "metadata": {},
   "source": [
    "##### Ans:\n",
    "- Preemption in multi-threading library is implemented by a timer interrupt\n",
    "- Multi-threading is implemented as a library on top of the event-based kernel\n",
    "- The library supporting multi-threading is divided into a platform independent part and a specific part "
   ]
  },
  {
   "cell_type": "markdown",
   "metadata": {},
   "source": [
    "#### 10. What is true for a process in the Contiki system? (Check all that apply)"
   ]
  },
  {
   "cell_type": "markdown",
   "metadata": {},
   "source": [
    "##### Ans: (wrong)\n",
    "- The process control block is internally used by the kernel\n",
    "- The process control block is directly used by the process\n",
    "- Processes communicate each other via the kernel\n",
    "- Two modes of running process : cooperative and preemptive"
   ]
  },
  {
   "cell_type": "markdown",
   "metadata": {},
   "source": [
    "#### 11. How does the Contiki service replacement work ? (Check all that apply)"
   ]
  },
  {
   "cell_type": "markdown",
   "metadata": {},
   "source": [
    "##### Ans: (wrong)\n",
    "- It is dynamically loaded to replace the old service\n",
    "- It is statically loaded for replacing the old service\n",
    "- In the replacement process, the process ID is kept intact"
   ]
  },
  {
   "cell_type": "markdown",
   "metadata": {},
   "source": [
    "#### 12. What is a protothread in Contiki ? (Check all that apply)"
   ]
  },
  {
   "cell_type": "markdown",
   "metadata": {},
   "source": [
    "##### Ans: \n",
    "- It is written in standard C programming language\n",
    "- It runs within a single function\n",
    "- It does not span over other functions\n",
    "- It is a light-weight mechanism"
   ]
  }
 ],
 "metadata": {
  "kernelspec": {
   "display_name": "Python 3",
   "language": "python",
   "name": "python3"
  },
  "language_info": {
   "codemirror_mode": {
    "name": "ipython",
    "version": 3
   },
   "file_extension": ".py",
   "mimetype": "text/x-python",
   "name": "python",
   "nbconvert_exporter": "python",
   "pygments_lexer": "ipython3",
   "version": "3.6.4"
  }
 },
 "nbformat": 4,
 "nbformat_minor": 2
}
